{
 "cells": [
  {
   "cell_type": "code",
   "execution_count": 5,
   "metadata": {},
   "outputs": [],
   "source": [
    "import sys\n",
    "import os\n",
    "import os.path as op\n",
    "import yaml\n",
    "import pandas as pd\n",
    "import ast\n",
    "import json\n",
    "import base64\n",
    "\n",
    "import numpy as np\n",
    "np.set_printoptions(suppress=True, precision=4)"
   ]
  },
  {
   "cell_type": "code",
   "execution_count": 4,
   "metadata": {},
   "outputs": [
    {
     "name": "stdout",
     "output_type": "stream",
     "text": [
      "python: can't open file 'tsv_demo.py': [Errno 2] No such file or directory\n"
     ]
    }
   ],
   "source": [
    "TSV_DIR = '/home/lab/cohenza4/Caption-HN/feature_extraction/scene_graph_benchmark/tools/mini_tsv/data'\n",
    "yaml_dict = {\"img\" : \"train.tsv\",\n",
    "            \"label\" :  \"train.label.tsv\",\n",
    "            \"hw\" : \"train.hw.tsv\",\n",
    "            \"linelist\" : \"train.linelist.tsv\"}\n",
    "with open('train.yaml', 'w') as file:\n",
    "        yaml.dump(yaml_dict, file)"
   ]
  },
  {
   "cell_type": "code",
   "execution_count": 1,
   "metadata": {},
   "outputs": [
    {
     "name": "stdout",
     "output_type": "stream",
     "text": [
      "python: can't open file 'test_sg_net.py': [Errno 2] No such file or directory\n"
     ]
    }
   ],
   "source": [
    "# extract vision features with VinVL object-attribute detection model\n",
    "# pretrained models at https://penzhanwu2.blob.core.windows.net/sgg/sgg_benchmark/vinvl_model_zoo/vinvl_vg_x152c4.pth\n",
    "# the associated labelmap at https://penzhanwu2.blob.core.windows.net/sgg/sgg_benchmark/vinvl_model_zoo/VG-SGG-dicts-vgoi6-clipped.json\n",
    "! python test_sg_net.py \\\n",
    "  --config-file sgg_configs/vgattr/vinvl_x152c4.yaml \\\n",
    "  TEST.IMS_PER_BATCH 2 \\\n",
    "  MODEL.WEIGHT pretrained_model/vinvl_vg_x152c4.pth \\\n",
    "  MODEL.ROI_HEADS.NMS_FILTER 1 \\\n",
    "  MODEL.ROI_HEADS.SCORE_THRESH 0.2 \\\n",
    "  TEST.OUTPUT_FEATURE True \\\n",
    "  OUTPUT_DIR output \\\n",
    "  DATA_DIR tools/mini_tsv/data \\\n",
    "  TEST.IGNORE_BOX_REGRESSION True \\\n",
    "  MODEL.ATTRIBUTE_ON True"
   ]
  },
  {
   "cell_type": "code",
   "execution_count": null,
   "metadata": {},
   "outputs": [],
   "source": []
  },
  {
   "cell_type": "code",
   "execution_count": null,
   "metadata": {},
   "outputs": [],
   "source": []
  },
  {
   "cell_type": "code",
   "execution_count": null,
   "metadata": {},
   "outputs": [],
   "source": []
  },
  {
   "cell_type": "code",
   "execution_count": null,
   "metadata": {},
   "outputs": [],
   "source": []
  },
  {
   "cell_type": "code",
   "execution_count": null,
   "metadata": {},
   "outputs": [],
   "source": []
  }
 ],
 "metadata": {
  "interpreter": {
   "hash": "f555ab7eb9953ab0bf1a5ba9b98996f78dede08c0c2bee40f33e1988c1354191"
  },
  "kernelspec": {
   "display_name": "Python 3.6.13 64-bit ('hn': conda)",
   "language": "python",
   "name": "python3"
  },
  "language_info": {
   "codemirror_mode": {
    "name": "ipython",
    "version": 3
   },
   "file_extension": ".py",
   "mimetype": "text/x-python",
   "name": "python",
   "nbconvert_exporter": "python",
   "pygments_lexer": "ipython3",
   "version": "3.6.13"
  },
  "orig_nbformat": 4
 },
 "nbformat": 4,
 "nbformat_minor": 2
}
