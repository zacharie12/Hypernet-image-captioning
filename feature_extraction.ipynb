{
 "cells": [
  {
   "cell_type": "code",
   "execution_count": null,
   "metadata": {},
   "outputs": [],
   "source": [
    "import sys\n",
    "import os\n",
    "import os.path as op\n",
    "import yaml\n",
    "import pandas as pd\n",
    "import ast\n",
    "import json\n",
    "import base64\n",
    "\n",
    "import numpy as np\n",
    "np.set_printoptions(suppress=True, precision=4)\n"
   ]
  },
  {
   "cell_type": "code",
   "execution_count": null,
   "metadata": {},
   "outputs": [],
   "source": [
    "# Git clone repos\n",
    "% cd /content/drive/MyDrive\n",
    "\n",
    "! git clone https://github.com/microsoft/scene_graph_benchmark.git\n",
    "\n",
    "# get model file to your mount disk\n",
    "! wget https://penzhanwu2.blob.core.windows.net/sgg/sgg_benchmark/vinvl_model_zoo/vinvl_vg_x152c4.pth -P /content/drive/MyDrive/scene_graph_benchmark/pretrained_model\n",
    "\n",
    "# get object detection mapping\n",
    "! wget https://penzhanwu2.blob.core.windows.net/sgg/sgg_benchmark/vinvl_model_zoo/VG-SGG-dicts-vgoi6-clipped.json -P /content/drive/MyDrive/scene_graph_benchmark/visualgenome/\n",
    "\n",
    "% cd /content/drive/MyDrive/scene_graph_benchmark/\n",
    "\n",
    "# maskrcnn_benchmark and coco api dependencies\n",
    "! pip install ninja yacs>=0.1.8 cython matplotlib tqdm opencv-python numpy>=1.19.5\n",
    "\n",
    "! pip install torch==1.7.1+cu101 torchvision==0.8.2+cu101 torchaudio==0.7.2 -f https://download.pytorch.org/whl/torch_stable.html\n",
    "! pip install timm\n",
    "! pip install einops\n",
    "! pip install -U PyYAML\n",
    "\n",
    "# install pycocotools\n",
    "! pip install pycocotools\n",
    "\n",
    "# install cityscapesScripts\n",
    "! python -m pip install cityscapesscripts\n",
    "\n",
    "# the following will install the lib with\n",
    "# symbolic links, so that you can modify\n",
    "# the files if you want and won't need to\n",
    "# re-build it\n",
    "! python setup.py build develop"
   ]
  }
 ],
 "metadata": {
  "language_info": {
   "name": "python"
  },
  "orig_nbformat": 4
 },
 "nbformat": 4,
 "nbformat_minor": 2
}
