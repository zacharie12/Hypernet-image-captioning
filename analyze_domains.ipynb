{
 "cells": [
  {
   "cell_type": "code",
   "execution_count": 67,
   "source": [
    "from urllib.parse import urlparse\n",
    "from collections import Counter\n",
    "import tldextract\n",
    "import re\n",
    "\n",
    "file_path = '/cortex/data/images/conceptual_captions/Train_GCC-training.tsv'\n",
    "def get_count(p):\n",
    "    with open(p, 'r') as f:\n",
    "        lines = f.readlines()\n",
    "        domain_count = Counter()\n",
    "        for line in lines:\n",
    "            url = line.split('\\t')[1]\n",
    "            domain = tldextract.extract(url)[1] # get domain\n",
    "            domain_count[domain]+=1\n",
    "    return domain_count\n",
    "\n",
    "\n",
    "        "
   ],
   "outputs": [],
   "metadata": {}
  },
  {
   "cell_type": "code",
   "execution_count": 68,
   "source": [
    "import numpy as np\n",
    "def get_stats(count):\n",
    "    mean = np.mean((list(count.values())))\n",
    "    print(f'mean count: {mean}')\n",
    "    print(f'number of domains: {len(count)}')"
   ],
   "outputs": [],
   "metadata": {}
  },
  {
   "cell_type": "code",
   "execution_count": 69,
   "source": [
    "# filter count by value\n",
    "def filter_count(count, xmin, xmax):\n",
    "    for key in list(count.keys()):\n",
    "        if not (count[key] <= xmax and count[key] >= xmin):\n",
    "            del count[key]\n",
    "    return count"
   ],
   "outputs": [],
   "metadata": {}
  },
  {
   "cell_type": "code",
   "execution_count": 70,
   "source": [
    "%matplotlib widget\n",
    "import numpy as np\n",
    "import matplotlib.pyplot as plt\n",
    "\n",
    "def plot_bar(count):\n",
    "\n",
    "    keys, values = count.keys(), count.values()\n",
    "    sorted_pairs = sorted(zip(values, keys), reverse=True)\n",
    "\n",
    "    tuples = zip(*sorted_pairs)\n",
    "    values, keys = [ list(tuple) for tuple in  tuples]\n",
    "\n",
    "    plt.bar(keys, values)\n",
    "    plt.xticks(rotation=90)\n"
   ],
   "outputs": [],
   "metadata": {}
  },
  {
   "cell_type": "code",
   "execution_count": 71,
   "source": [
    "%matplotlib widget\n",
    "xmin=100\n",
    "xmax=500\n",
    "print(f'[{xmin},{xmax}] range')\n",
    "count = get_count(file_path)\n",
    "count = filter_count(count, xmin, xmax)\n",
    "get_stats(count)\n",
    "fig = plt.figure(figsize=(18, 10))\n",
    "plot_bar(count)\n",
    "plt.title(f'[{xmin},{xmax}] range')\n",
    "plt.show()\n",
    "plt.savefig(f'vis/{xmin}_{xmax}')\n"
   ],
   "outputs": [
    {
     "output_type": "stream",
     "name": "stdout",
     "text": [
      "[100,500] range\n",
      "mean count: 227.0843373493976\n",
      "number of domains: 83\n"
     ]
    },
    {
     "output_type": "display_data",
     "data": {
      "text/plain": [
       "Canvas(toolbar=Toolbar(toolitems=[('Home', 'Reset original view', 'home', 'home'), ('Back', 'Back to previous …"
      ],
      "application/vnd.jupyter.widget-view+json": {
       "version_major": 2,
       "version_minor": 0,
       "model_id": "37959fabb049409b9a8981db4533ba9b"
      }
     },
     "metadata": {}
    }
   ],
   "metadata": {}
  },
  {
   "cell_type": "code",
   "execution_count": 72,
   "source": [
    "%matplotlib widget\n",
    "xmin=501\n",
    "xmax=1000\n",
    "print(f'[{xmin},{xmax}] range')\n",
    "count = get_count(file_path)\n",
    "count = filter_count(count, xmin, xmax)\n",
    "get_stats(count)\n",
    "fig = plt.figure(figsize=(18, 10))\n",
    "plot_bar(count)\n",
    "plt.title(f'[{xmin},{xmax}] range')\n",
    "plt.show()\n",
    "plt.savefig(f'vis/{xmin}_{xmax}')\n",
    "\n",
    "\n"
   ],
   "outputs": [
    {
     "output_type": "stream",
     "name": "stdout",
     "text": [
      "[501,1000] range\n",
      "mean count: 637.3333333333334\n",
      "number of domains: 12\n"
     ]
    },
    {
     "output_type": "display_data",
     "data": {
      "text/plain": [
       "Canvas(toolbar=Toolbar(toolitems=[('Home', 'Reset original view', 'home', 'home'), ('Back', 'Back to previous …"
      ],
      "application/vnd.jupyter.widget-view+json": {
       "version_major": 2,
       "version_minor": 0,
       "model_id": "1dbf46df37d7465dac900247b128575c"
      }
     },
     "metadata": {}
    }
   ],
   "metadata": {}
  },
  {
   "cell_type": "code",
   "execution_count": 73,
   "source": [
    "%matplotlib widget\n",
    "xmin=1000\n",
    "xmax=np.inf\n",
    "print(f'[{xmin},{xmax}] range')\n",
    "count = get_count(file_path)\n",
    "count = filter_count(count, xmin, xmax)\n",
    "get_stats(count)\n",
    "fig = plt.figure(figsize=(18, 10))\n",
    "plot_bar(count)\n",
    "plt.title(f'[{xmin},{xmax}] range')\n",
    "plt.show()\n",
    "plt.savefig(f'vis/{xmin}_{xmax}')\n",
    "\n"
   ],
   "outputs": [
    {
     "output_type": "stream",
     "name": "stdout",
     "text": [
      "[1000,inf] range\n",
      "mean count: 11277.869565217392\n",
      "number of domains: 23\n"
     ]
    },
    {
     "output_type": "display_data",
     "data": {
      "text/plain": [
       "Canvas(toolbar=Toolbar(toolitems=[('Home', 'Reset original view', 'home', 'home'), ('Back', 'Back to previous …"
      ],
      "application/vnd.jupyter.widget-view+json": {
       "version_major": 2,
       "version_minor": 0,
       "model_id": "44da476c5656404796bb6c436dd5d58e"
      }
     },
     "metadata": {}
    }
   ],
   "metadata": {}
  },
  {
   "cell_type": "code",
   "execution_count": null,
   "source": [
    "%matplotlib widget\n",
    "xmin=50\n",
    "xmax=100\n",
    "print(f'[{xmin},{xmax}] range')\n",
    "count = get_count(file_path)\n",
    "count = filter_count(count, xmin, xmax)\n",
    "get_stats(count)\n",
    "fig = plt.figure(figsize=(18, 10))\n",
    "plot_bar(count)\n",
    "plt.title(f'[{xmin},{xmax}] range')\n",
    "plt.show()\n",
    "plt.savefig(f'vis/{xmin}_{xmax}')\n",
    "\n"
   ],
   "outputs": [],
   "metadata": {}
  }
 ],
 "metadata": {
  "orig_nbformat": 4,
  "language_info": {
   "name": "python",
   "version": "3.6.13",
   "mimetype": "text/x-python",
   "codemirror_mode": {
    "name": "ipython",
    "version": 3
   },
   "pygments_lexer": "ipython3",
   "nbconvert_exporter": "python",
   "file_extension": ".py"
  },
  "kernelspec": {
   "name": "python3",
   "display_name": "Python 3.6.13 64-bit ('hn': conda)"
  },
  "interpreter": {
   "hash": "78918f047b33ca3f59ef678768406cda424a157b98cb4006fbed232982abea62"
  }
 },
 "nbformat": 4,
 "nbformat_minor": 2
}